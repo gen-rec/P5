{
 "cells": [
  {
   "cell_type": "markdown",
   "source": [
    "## Shuffling P5 dataset"
   ],
   "metadata": {
    "collapsed": false
   }
  },
  {
   "cell_type": "code",
   "execution_count": null,
   "outputs": [],
   "source": [
    "import json\n",
    "import os\n",
    "import pickle\n",
    "import random\n",
    "import shutil"
   ],
   "metadata": {
    "collapsed": false
   }
  },
  {
   "cell_type": "code",
   "execution_count": null,
   "metadata": {
    "collapsed": true
   },
   "outputs": [],
   "source": [
    "source_dataset = \"beauty\"\n",
    "seed = 1127\n",
    "target_dataset = source_dataset + \"_shuffled\"\n",
    "\n",
    "os.makedirs(target_dataset, exist_ok=True)"
   ]
  },
  {
   "cell_type": "markdown",
   "source": [
    "### Load files"
   ],
   "metadata": {
    "collapsed": false
   }
  },
  {
   "cell_type": "code",
   "execution_count": null,
   "outputs": [],
   "source": [
    "datamaps = json.load(open(os.path.join(source_dataset, \"datamaps.json\"), \"r\", encoding=\"utf-8\"))\n",
    "user_id2name = pickle.load(open(os.path.join(source_dataset, \"user_id2name.pkl\"), \"rb\"))"
   ],
   "metadata": {
    "collapsed": false
   }
  },
  {
   "cell_type": "code",
   "execution_count": null,
   "outputs": [],
   "source": [
    "negative_samples = open(os.path.join(source_dataset, \"negative_samples.txt\"), \"r\", encoding=\"utf-8\").readlines()\n",
    "sequential_data = open(os.path.join(source_dataset, \"sequential_data.txt\"), \"r\", encoding=\"utf-8\").readlines()"
   ],
   "metadata": {
    "collapsed": false
   }
  },
  {
   "cell_type": "code",
   "execution_count": null,
   "outputs": [],
   "source": [
    "amazon_user_ids = list(datamaps[\"user2id\"].keys())\n",
    "len(amazon_user_ids), amazon_user_ids[:5]"
   ],
   "metadata": {
    "collapsed": false
   }
  },
  {
   "cell_type": "code",
   "execution_count": null,
   "outputs": [],
   "source": [
    "amazon_item_ids = list(datamaps[\"item2id\"].keys())\n",
    "len(amazon_item_ids), amazon_item_ids[:5]"
   ],
   "metadata": {
    "collapsed": false
   }
  },
  {
   "cell_type": "markdown",
   "source": [
    "### Shuffle IDs"
   ],
   "metadata": {
    "collapsed": false
   }
  },
  {
   "cell_type": "code",
   "execution_count": null,
   "outputs": [],
   "source": [
    "random.seed(seed)\n",
    "random.shuffle(amazon_user_ids)\n",
    "random.seed(seed)\n",
    "random.shuffle(amazon_item_ids)"
   ],
   "metadata": {
    "collapsed": false
   }
  },
  {
   "cell_type": "code",
   "execution_count": null,
   "outputs": [],
   "source": [
    "new_user2id = {user_id: str(i) for i, user_id in enumerate(amazon_user_ids, start=1)}\n",
    "new_id2user = {str(i): user_id for i, user_id in enumerate(amazon_user_ids, start=1)}\n",
    "new_item2id = {item_id: str(i) for i, item_id in enumerate(amazon_item_ids, start=1)}\n",
    "new_id2item = {str(i): item_id for i, item_id in enumerate(amazon_item_ids, start=1)}"
   ],
   "metadata": {
    "collapsed": false
   }
  },
  {
   "cell_type": "code",
   "execution_count": null,
   "outputs": [],
   "source": [
    "new_datamaps = {\n",
    "    \"user2id\": new_user2id,\n",
    "    \"id2user\": new_id2user,\n",
    "    \"item2id\": new_item2id,\n",
    "    \"id2item\": new_id2item\n",
    "}"
   ],
   "metadata": {
    "collapsed": false
   }
  },
  {
   "cell_type": "code",
   "execution_count": null,
   "outputs": [],
   "source": [
    "json.dump(new_datamaps, open(os.path.join(target_dataset, \"datamaps.json\"), \"w\", encoding=\"utf-8\"), indent=1,\n",
    "          ensure_ascii=False)"
   ],
   "metadata": {
    "collapsed": false
   }
  },
  {
   "cell_type": "code",
   "execution_count": null,
   "outputs": [],
   "source": [
    "old_user_to_new_user_map = {int(datamaps[\"user2id\"][user_id]): int(new_user2id[user_id]) for user_id in amazon_user_ids}\n",
    "old_item_to_new_item_map = {int(datamaps[\"item2id\"][item_id]): int(new_item2id[item_id]) for item_id in amazon_item_ids}"
   ],
   "metadata": {
    "collapsed": false
   }
  },
  {
   "cell_type": "code",
   "execution_count": null,
   "outputs": [],
   "source": [
    "json.dump(old_user_to_new_user_map,\n",
    "          open(os.path.join(target_dataset, \"old_user_to_new_user_map.json\"), \"w\", encoding=\"utf-8\"), indent=1,\n",
    "          ensure_ascii=False)\n",
    "json.dump(old_item_to_new_item_map,\n",
    "          open(os.path.join(target_dataset, \"old_item_to_new_item_map.json\"), \"w\", encoding=\"utf-8\"), indent=1,\n",
    "          ensure_ascii=False)"
   ],
   "metadata": {
    "collapsed": false
   }
  },
  {
   "cell_type": "markdown",
   "source": [
    "### negative_samples.txt"
   ],
   "metadata": {
    "collapsed": false
   }
  },
  {
   "cell_type": "code",
   "execution_count": null,
   "outputs": [],
   "source": [
    "negative_samples = [list(map(int, line.strip().split(\" \"))) for line in negative_samples]\n",
    "negative_samples[0]"
   ],
   "metadata": {
    "collapsed": false
   }
  },
  {
   "cell_type": "code",
   "execution_count": null,
   "outputs": [],
   "source": [
    "negative_samples = [[old_user_to_new_user_map[line[0]]] + list(map(lambda x: old_item_to_new_item_map[x], line[1:])) for line in negative_samples]\n",
    "negative_samples[0]"
   ],
   "metadata": {
    "collapsed": false
   }
  },
  {
   "cell_type": "code",
   "execution_count": null,
   "outputs": [],
   "source": [
    "negative_samples.sort(key=lambda x: x[0])\n",
    "negative_samples[0]"
   ],
   "metadata": {
    "collapsed": false
   }
  },
  {
   "cell_type": "code",
   "execution_count": null,
   "outputs": [],
   "source": [
    "with open(os.path.join(target_dataset, \"negative_samples.txt\"), \"w\", encoding=\"utf-8\") as f:\n",
    "    for line in negative_samples:\n",
    "        f.write(\" \".join(map(str, line)) + \"\\n\")"
   ],
   "metadata": {
    "collapsed": false
   }
  },
  {
   "cell_type": "markdown",
   "source": [
    "### sequential_data.txt"
   ],
   "metadata": {
    "collapsed": false
   }
  },
  {
   "cell_type": "code",
   "execution_count": null,
   "outputs": [],
   "source": [
    "sequential_data = [list(map(int, line.strip().split(\" \"))) for line in sequential_data]\n",
    "sequential_data[0]"
   ],
   "metadata": {
    "collapsed": false
   }
  },
  {
   "cell_type": "code",
   "execution_count": null,
   "outputs": [],
   "source": [
    "sequential_data = [[old_user_to_new_user_map[line[0]]] + list(map(lambda x: old_item_to_new_item_map[x], line[1:])) for line in sequential_data]\n",
    "sequential_data[0]"
   ],
   "metadata": {
    "collapsed": false
   }
  },
  {
   "cell_type": "code",
   "execution_count": null,
   "outputs": [],
   "source": [
    "sequential_data.sort(key=lambda x: x[0])\n",
    "sequential_data[0]"
   ],
   "metadata": {
    "collapsed": false
   }
  },
  {
   "cell_type": "code",
   "execution_count": null,
   "outputs": [],
   "source": [
    "with open(os.path.join(target_dataset, \"sequential_data.txt\"), \"w\", encoding=\"utf-8\") as f:\n",
    "    for line in sequential_data:\n",
    "        f.write(\" \".join(map(str, line)) + \"\\n\")"
   ],
   "metadata": {
    "collapsed": false
   }
  },
  {
   "cell_type": "markdown",
   "source": [
    "### user_id2name.pkl"
   ],
   "metadata": {
    "collapsed": false
   }
  },
  {
   "cell_type": "code",
   "execution_count": null,
   "outputs": [],
   "source": [
    "user_id2name"
   ],
   "metadata": {
    "collapsed": false
   }
  },
  {
   "cell_type": "code",
   "execution_count": null,
   "outputs": [],
   "source": [
    "user_id2name[\"1\"]"
   ],
   "metadata": {
    "collapsed": false
   }
  },
  {
   "cell_type": "code",
   "execution_count": null,
   "outputs": [],
   "source": [
    "ids, names = zip(*user_id2name.items())"
   ],
   "metadata": {
    "collapsed": false
   }
  },
  {
   "cell_type": "code",
   "execution_count": null,
   "outputs": [],
   "source": [
    "ids[:5]"
   ],
   "metadata": {
    "collapsed": false
   }
  },
  {
   "cell_type": "code",
   "execution_count": null,
   "outputs": [],
   "source": [
    "new_ids = list(map(str, map(lambda x: old_user_to_new_user_map[x], map(int, ids))))"
   ],
   "metadata": {
    "collapsed": false
   }
  },
  {
   "cell_type": "code",
   "execution_count": null,
   "outputs": [],
   "source": [
    "new_ids[:5]"
   ],
   "metadata": {
    "collapsed": false
   }
  },
  {
   "cell_type": "code",
   "execution_count": null,
   "outputs": [],
   "source": [
    "user_id2name = {new_id: name for new_id, name in zip(new_ids, names)}"
   ],
   "metadata": {
    "collapsed": false
   }
  },
  {
   "cell_type": "code",
   "execution_count": null,
   "outputs": [],
   "source": [
    "user_id2name[\"1\"]"
   ],
   "metadata": {
    "collapsed": false
   }
  },
  {
   "cell_type": "code",
   "execution_count": null,
   "outputs": [],
   "source": [
    "pickle.dump(user_id2name, open(os.path.join(target_dataset, \"user_id2name.pkl\"), \"wb\"))"
   ],
   "metadata": {
    "collapsed": false
   }
  },
  {
   "cell_type": "markdown",
   "source": [
    "### Copy rest of the files"
   ],
   "metadata": {
    "collapsed": false
   }
  },
  {
   "cell_type": "code",
   "execution_count": null,
   "outputs": [],
   "source": [
    "a = input(\"Copy rest of the files? (y/n)\")\n",
    "\n",
    "if a != \"y\":\n",
    "    exit()"
   ],
   "metadata": {
    "collapsed": false
   }
  },
  {
   "cell_type": "code",
   "execution_count": null,
   "outputs": [],
   "source": [
    "untouched_files = [\"exp_splits.pkl\", \"meta.json.gz\", \"rating_splits_augmented.pkl\", \"review_splits.pkl\", \"zeroshot_exp_splits.pkl\"]"
   ],
   "metadata": {
    "collapsed": false
   }
  },
  {
   "cell_type": "code",
   "execution_count": null,
   "outputs": [],
   "source": [
    "for file in untouched_files:\n",
    "    shutil.copy(os.path.join(source_dataset, file), os.path.join(target_dataset, file))"
   ],
   "metadata": {
    "collapsed": false
   }
  }
 ],
 "metadata": {
  "kernelspec": {
   "display_name": "Python 3",
   "language": "python",
   "name": "python3"
  },
  "language_info": {
   "codemirror_mode": {
    "name": "ipython",
    "version": 2
   },
   "file_extension": ".py",
   "mimetype": "text/x-python",
   "name": "python",
   "nbconvert_exporter": "python",
   "pygments_lexer": "ipython2",
   "version": "2.7.6"
  }
 },
 "nbformat": 4,
 "nbformat_minor": 0
}
